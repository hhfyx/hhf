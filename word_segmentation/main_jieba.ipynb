{
 "cells": [
  {
   "cell_type": "markdown",
   "id": "ae8a3de8-7cf7-47ef-a0a5-ef47ec13a2a2",
   "metadata": {},
   "source": [
    "# 结巴分词实践"
   ]
  },
  {
   "cell_type": "markdown",
   "id": "27b22baa-3d3a-44c2-a89d-8fc8c060c0da",
   "metadata": {},
   "source": [
    "## 结巴分词的三种模式"
   ]
  },
  {
   "cell_type": "code",
   "execution_count": 4,
   "id": "1b4a0e5c-2d70-461e-9e21-d42c49c331ad",
   "metadata": {},
   "outputs": [
    {
     "name": "stdout",
     "output_type": "stream",
     "text": [
      "精确模式:\n",
      "默认模式分词结果: 我/ 来到/ 北京/ 清华大学\n",
      "\n",
      "全模式:\n",
      "全模式分词结果: 我/ 来到/ 北京/ 清华/ 清华大学/ 华大/ 大学\n",
      "\n",
      "搜索引擎模式:\n",
      "搜索引擎模式分词结果: 小明, 硕士, 毕业, 于, 中国, 科学, 学院, 科学院, 中国科学院, 计算, 计算所, ，, 后, 在, 日本, 京都, 大学, 日本京都大学, 深造\n"
     ]
    }
   ],
   "source": [
    "import jieba\n",
    "\n",
    "# 精确模式\n",
    "print(\"精确模式:\")\n",
    "seg_list = jieba.cut(\"我来到北京清华大学\", cut_all=False)\n",
    "print(\"默认模式分词结果: \" + \"/ \".join(seg_list))\n",
    "\n",
    "# 全模式\n",
    "print(\"\\n全模式:\")\n",
    "seg_list = jieba.cut(\"我来到北京清华大学\", cut_all=True)\n",
    "print(\"全模式分词结果: \" + \"/ \".join(seg_list))\n",
    "\n",
    "# 搜索引擎模式\n",
    "print(\"\\n搜索引擎模式:\")\n",
    "seg_list = jieba.cut_for_search(\"小明硕士毕业于中国科学院计算所，后在日本京都大学深造\")\n",
    "print(\"搜索引擎模式分词结果: \" + \", \".join(seg_list))"
   ]
  },
  {
   "cell_type": "code",
   "execution_count": 8,
   "id": "56c221db-b339-41d4-9623-183a9347f72a",
   "metadata": {},
   "outputs": [
    {
     "name": "stdout",
     "output_type": "stream",
     "text": [
      "默认模式分词结果: 黄浩锋/ 是/ 我们/ 的/ 朋友/ ，/ 他/ 来自/ 北京/ 清华大学/ 。\n"
     ]
    }
   ],
   "source": [
    "import jieba\n",
    "\n",
    "# 加载自定义词典\n",
    "jieba.load_userdict(\"D:\\\\git\\\\userdict.txt\")\n",
    "\n",
    "# 测试分词\n",
    "test_sentence = \"黄浩锋是我们的朋友，他来自北京清华大学。\"\n",
    "seg_list = jieba.cut(test_sentence, cut_all=False)\n",
    "print(\"默认模式分词结果: \" + \"/ \".join(seg_list))"
   ]
  },
  {
   "cell_type": "code",
   "execution_count": 9,
   "id": "1decfe18-ac16-4f23-8acd-75eb842cd750",
   "metadata": {},
   "outputs": [
    {
     "name": "stdout",
     "output_type": "stream",
     "text": [
      "分词结果: 黄浩锋/ 即将/ 是/ 自然语言/ 处理/ 方面/ 的/ 高手/ 。\n"
     ]
    }
   ],
   "source": [
    "import jieba\n",
    "\n",
    "# 加载自定义词典\n",
    "jieba.load_userdict(\"D:\\\\git\\\\userdict.txt\")  \n",
    "\n",
    "# 测试分词\n",
    "test_sentence = \"黄浩锋即将是自然语言处理方面的高手。\"\n",
    "seg_list = jieba.cut(test_sentence, HMM=False)\n",
    "print(\"分词结果: \" + \"/ \".join(seg_list))"
   ]
  },
  {
   "cell_type": "code",
   "execution_count": 11,
   "id": "48f08034-b542-46ef-bd83-82c5482a20a6",
   "metadata": {},
   "outputs": [
    {
     "name": "stdout",
     "output_type": "stream",
     "text": [
      "提取的关键词： ['重点', '大学', '国家', '河北省', '共建']\n"
     ]
    }
   ],
   "source": [
    "import jieba.analyse\n",
    "\n",
    "sentence = \"燕山大学是河北省人民政府、教育部、工业和信息化部、国家国防科技工业局四方共建的全国重点大学，河北省重点支持的国家一流大学和世界一流学科建设高校，北京高科大学联盟成员。\"\n",
    "keywords = jieba.analyse.textrank(sentence, topK=5, withWeight=False, allowPOS=('ns', 'n', 'vn', 'v'))\n",
    "\n",
    "print(\"提取的关键词：\", keywords)"
   ]
  },
  {
   "cell_type": "code",
   "execution_count": null,
   "id": "8c2470bd-20fa-4456-9d80-a22617575f98",
   "metadata": {},
   "outputs": [],
   "source": []
  }
 ],
 "metadata": {
  "kernelspec": {
   "display_name": "Python 3 (ipykernel)",
   "language": "python",
   "name": "python3"
  },
  "language_info": {
   "codemirror_mode": {
    "name": "ipython",
    "version": 3
   },
   "file_extension": ".py",
   "mimetype": "text/x-python",
   "name": "python",
   "nbconvert_exporter": "python",
   "pygments_lexer": "ipython3",
   "version": "3.9.21"
  }
 },
 "nbformat": 4,
 "nbformat_minor": 5
}
